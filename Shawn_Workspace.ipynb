{
 "cells": [
  {
   "cell_type": "markdown",
   "metadata": {},
   "source": [
    "# Shawn's Workspace"
   ]
  },
  {
   "cell_type": "code",
   "execution_count": 53,
   "metadata": {
    "collapsed": true
   },
   "outputs": [],
   "source": [
    "from modsim import *\n",
    "from math import *\n",
    "#takes velocity"
   ]
  },
  {
   "cell_type": "code",
   "execution_count": 54,
   "metadata": {
    "collapsed": true
   },
   "outputs": [],
   "source": [
    "m = UNITS.meter\n",
    "km = UNITS.kilometer\n",
    "s = UNITS.second\n",
    "kg = UNITS.kilogram\n",
    "N = kg * m /(s**2)\n",
    "kN = kg * m /(s**2) * 1000\n",
    "G = 6.67408 * (10**-11) * m**3 * kg**-1 * s**-2\n",
    "\n"
   ]
  },
  {
   "cell_type": "code",
   "execution_count": 55,
   "metadata": {},
   "outputs": [
    {
     "data": {
      "text/html": [
       "<div>\n",
       "<style>\n",
       "    .dataframe thead tr:only-child th {\n",
       "        text-align: right;\n",
       "    }\n",
       "\n",
       "    .dataframe thead th {\n",
       "        text-align: left;\n",
       "    }\n",
       "\n",
       "    .dataframe tbody tr th {\n",
       "        vertical-align: top;\n",
       "    }\n",
       "</style>\n",
       "<table border=\"1\" class=\"dataframe\">\n",
       "  <thead>\n",
       "    <tr style=\"text-align: right;\">\n",
       "      <th></th>\n",
       "      <th>value</th>\n",
       "    </tr>\n",
       "  </thead>\n",
       "  <tbody>\n",
       "    <tr>\n",
       "      <th>orbital_radius</th>\n",
       "      <td>227900000000.0 meter</td>\n",
       "    </tr>\n",
       "    <tr>\n",
       "      <th>radius</th>\n",
       "      <td>3396200 meter</td>\n",
       "    </tr>\n",
       "    <tr>\n",
       "      <th>mass</th>\n",
       "      <td>6.4171e+23 kilogram</td>\n",
       "    </tr>\n",
       "    <tr>\n",
       "      <th>orbital_speed</th>\n",
       "      <td>24080.0 meter / second</td>\n",
       "    </tr>\n",
       "  </tbody>\n",
       "</table>\n",
       "</div>"
      ],
      "text/plain": [
       "orbital_radius      227900000000.0 meter\n",
       "radius                     3396200 meter\n",
       "mass                 6.4171e+23 kilogram\n",
       "orbital_speed     24080.0 meter / second\n",
       "dtype: object"
      ]
     },
     "execution_count": 55,
     "metadata": {},
     "output_type": "execute_result"
    }
   ],
   "source": [
    "sun = Condition(x = 0 * m, #i'm using conditions instead of systems to reduce the am't of systems we have\n",
    "             y = 0 * m, # I converted sun and mars to systems for now\n",
    "                        # because something wasn't working with the make system function\n",
    "                        #I fixed it :D\n",
    "             mass = 1.9891e30 * kg             \n",
    "            )\n",
    "\n",
    "mars = Condition(orbital_radius = 227.9e9 * m,\n",
    "              radius = 3396200 * m,\n",
    "              mass = .64171e24 * kg,\n",
    "              orbital_speed = 24080 * m/s \n",
    "                )\n",
    "\n",
    "saturn = Condition(orbital_radius = 1.429e12 * m,\n",
    "                mass = 5.683e26 * kg,\n",
    "                orbital_speed = 9680 *m/s,\n",
    "                radius= 58.232e6 * m\n",
    "                )\n",
    "\n",
    "titan = Condition(radius = 2575e3 *m,\n",
    "               mass = 1.3455e23 * kg,\n",
    "               orbital_speed = 5570 *m/s,\n",
    "               orbital_radius = 1221865e3 * m\n",
    "              )\n",
    "\n",
    "rocket = Condition(orbital_radius = 0 *m,\n",
    "                dry_mass = 1433788 * kg,\n",
    "                rho = 0.02 * kg/m**3, #needs function to update\n",
    "                thrust = 22800000 * N,\n",
    "                fuel_init = 1000000 * kg\n",
    "               )\n",
    "\n",
    "mars\n",
    "\n",
    "###\n",
    "#sun.mass, saturn.radius, mars.radius\n",
    "#vp = (2*G*sun.mass*(saturn.radius/(mars.radius*(mars.radius+saturn.radius))))**(1/2)\n",
    "\n",
    "#dv1 = vp - mars.orbital_speed\n",
    "#va = vp*(mars.radius/saturn.radius)\n",
    "#dV2 = saturn.orbital_speed - va\n",
    "\n",
    "#dv = g*I*ln(mass_initial/mass_final)"
   ]
  },
  {
   "cell_type": "code",
   "execution_count": 56,
   "metadata": {
    "collapsed": true
   },
   "outputs": [],
   "source": [
    "def make_system_planet(condition,theta): #in degrees\n",
    "    \n",
    "    unpack(condition)\n",
    "    \n",
    "    theta1 = np.deg2rad(theta*UNITS.degree)\n",
    "    \n",
    "    x,y = pol2cart(theta1,orbital_radius)\n",
    "    \n",
    "    vx,vx = pol2cart(theta1+.5*pi*UNITS.radian,orbital_speed)\n",
    "    \n",
    "    init = State(x=x,y=y,vx=vx,vy=vy)\n",
    "    \n",
    "    return System(init=init,mass=mass)\n",
    "    \n",
    "def make_system_titan(condition,system,theta):\n",
    "    \n",
    "    unpack(condition)\n",
    "    \n",
    "    theta1 = np.deg2rad(theta*UNITS.degree)\n",
    "    \n",
    "    a = Vector(system.init.x,system.init.y)\n",
    "    \n",
    "    x,y = pol2cart(theta1,orbital_radius)\n",
    "    \n",
    "    vx,vx = pol2cart(theta1+.5*pi*UNITS.radian,orbital_speed)\n",
    "    \n",
    "    init = State(x=x,y=y,vx=vx,vy=vy)\n",
    "    \n",
    "    return System(init=init,mass=mass)\n",
    "\n",
    "    \n",
    "def slope_func(state,t,system):\n",
    "    x, y, vx, vy = state\n",
    "    unpack(system)\n",
    "    \n",
    "    h = height_from_mars(x,y)\n",
    "    a_grav = calc_grav(h)\n",
    "    \n",
    "    v = Vector(vx,vy)\n",
    "    \n",
    "    f_drag = force_of_drag(v.mag,h)\n",
    "    a_drag = d_drag/mass\n",
    "    \n",
    "    a_thrust = accel_thrust(system,v,t)\n",
    "    \n",
    "    a = a_grav + a_drag + a_thrust\n",
    "    \n",
    "    return v.x, v.y, a.x, a.y\n",
    "\n"
   ]
  },
  {
   "cell_type": "markdown",
   "metadata": {},
   "source": [
    "\n",
    "# This is the start of the things I've done today"
   ]
  },
  {
   "cell_type": "code",
   "execution_count": 57,
   "metadata": {},
   "outputs": [
    {
     "name": "stdout",
     "output_type": "stream",
     "text": [
      "58232000.0 meter\n"
     ]
    },
    {
     "data": {
      "text/html": [
       "880.9648437806447 meter/second"
      ],
      "text/latex": [
       "$880.9648437806447 \\frac{meter}{second}$"
      ],
      "text/plain": [
       "<Quantity(880.9648437806447, 'meter / second')>"
      ]
     },
     "execution_count": 57,
     "metadata": {},
     "output_type": "execute_result"
    }
   ],
   "source": [
    "thrust_magnitude = 934000 * N,\n",
    "flow_rate = -273.6 * kg/s\n",
    "mass_initial = 108000 * kg\n",
    "g = 9.81 * m * s**-2\n",
    "I = 307.4 * s #Merlin in vacuum from https://www.reddit.com/r/spacex/comments/3lsm0q/f9ft_vs_f9v11_fuel_mass_flow_rate_isp/\n",
    "\n",
    "def calc_dv(burn_time):\n",
    "    \"\"\" \n",
    "    Calculates a change in velocity, taking burn time of thrusters as input\n",
    "    implies a constant thrust, defined above\n",
    "    refers to STAGE TWO of Spacex Falcon 9, link to source above\n",
    "    \"\"\"\n",
    "    new_mass = mass_initial + burn_time*s*flow_rate\n",
    "    \"\"\"\n",
    "    Calculates change in mass of fuel over time \n",
    "    references flow rate from source\n",
    "    \"\"\"\n",
    "    print(saturn.radius)\n",
    "    dv = g*I*log(mass_initial/new_mass)\n",
    "    return dv\n",
    "    \n",
    "calc_dv(100)"
   ]
  },
  {
   "cell_type": "code",
   "execution_count": 62,
   "metadata": {},
   "outputs": [
    {
     "name": "stdout",
     "output_type": "stream",
     "text": [
      "24080.0 meter / second\n",
      "25778.0 meter / second\n",
      "1698085.566201815 meter\n"
     ]
    },
    {
     "data": {
      "text/plain": [
       "(<Quantity(3396200, 'meter')>, <Quantity(28.86759637016803, 'meter')>)"
      ]
     },
     "execution_count": 62,
     "metadata": {},
     "output_type": "execute_result"
    }
   ],
   "source": [
    "def calc_radii(dv):\n",
    "    dv *= m/s\n",
    "    \n",
    "    vp  =  mars.orbital_speed + dv\n",
    "    \n",
    "    \n",
    "    \"\"\"\n",
    "    Takes the change in velocity from the previous function\n",
    "    Adds change in velocity to speed of mars, gives us speed of rocket as it orbits around the sun\n",
    "    Puts this velocity into a magic sauce equation to calculate the distance \n",
    "    from the sun to the perigee and apogee, labelled r1 and r2 respectively\n",
    "    This is the goal but the unit's aren't working, rip\n",
    "    \n",
    "    So I added something to get the right units trusting that your equation works so it should be fine now - Corey\n",
    "    \"\"\"\n",
    "    #print(vp)\n",
    "    #print(G)\n",
    "    #print(mars.radius)\n",
    "    #print(sun.mass)\n",
    "    #print\n",
    "    \n",
    "    r1 = mars.radius\n",
    "    f = (G * sun.mass*r1 - (vp**2)*(r1**2)) / ((vp**2)*(r1)-2*G*sun.mass)\n",
    "    i=abs(f)\n",
    "    print(mars.orbital_speed)\n",
    "    print(vp)\n",
    "    print(i)\n",
    "    \n",
    "    r2 = 2*f+r1\n",
    "    return r1, r2\n",
    "\n",
    "v= calc_radii(1698)\n",
    "v\n"
   ]
  },
  {
   "cell_type": "code",
   "execution_count": null,
   "metadata": {
    "collapsed": true
   },
   "outputs": [],
   "source": []
  },
  {
   "cell_type": "code",
   "execution_count": null,
   "metadata": {
    "collapsed": true
   },
   "outputs": [],
   "source": []
  }
 ],
 "metadata": {
  "kernelspec": {
   "display_name": "Python 3",
   "language": "python",
   "name": "python3"
  },
  "language_info": {
   "codemirror_mode": {
    "name": "ipython",
    "version": 3
   },
   "file_extension": ".py",
   "mimetype": "text/x-python",
   "name": "python",
   "nbconvert_exporter": "python",
   "pygments_lexer": "ipython3",
   "version": "3.6.1"
  }
 },
 "nbformat": 4,
 "nbformat_minor": 2
}
