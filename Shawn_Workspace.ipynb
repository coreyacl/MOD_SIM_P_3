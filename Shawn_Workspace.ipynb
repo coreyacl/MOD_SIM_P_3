{
 "cells": [
  {
   "cell_type": "markdown",
   "metadata": {},
   "source": [
    "# Shawn's Workspace"
   ]
  },
  {
   "cell_type": "code",
   "execution_count": null,
   "metadata": {
    "collapsed": true
   },
   "outputs": [],
   "source": [
    "def calc_height()\n",
    "#takes velocity"
   ]
  },
  {
   "cell_type": "code",
   "execution_count": null,
   "metadata": {
    "collapsed": true
   },
   "outputs": [],
   "source": [
    "mars = System(\n",
    "duration = 687, #days\n",
    "distance_sun = 227.9 * 10 ^6, #km\n",
    "distance_orbit = distance_sun * 3.14159)"
   ]
  },
  {
   "cell_type": "code",
   "execution_count": null,
   "metadata": {
    "collapsed": true
   },
   "outputs": [],
   "source": [
    "mars = System(x= 0 * m,\n",
    "              y= 0 * m,\n",
    "              radius = 3396200 * m,\n",
    "              mass = .64171 * (10**24) * kg    \n",
    "                )\n",
    "\n",
    "rocket = System(x= -1 * mars.radius,\n",
    "                y= 0 * m,\n",
    "                dry_mass = 1433788 * kg,\n",
    "                rho = 0.02 * kg/m**3, #needs function to update\n",
    "                h = 0 * m, #height\n",
    "                thrust = 22800000 * N,\n",
    "                fuel_init = 1000000 * kg\n",
    "               )\n"
   ]
  }
 ],
 "metadata": {
  "kernelspec": {
   "display_name": "Python 3",
   "language": "python",
   "name": "python3"
  },
  "language_info": {
   "codemirror_mode": {
    "name": "ipython",
    "version": 3
   },
   "file_extension": ".py",
   "mimetype": "text/x-python",
   "name": "python",
   "nbconvert_exporter": "python",
   "pygments_lexer": "ipython3",
   "version": "3.6.1"
  }
 },
 "nbformat": 4,
 "nbformat_minor": 2
}
