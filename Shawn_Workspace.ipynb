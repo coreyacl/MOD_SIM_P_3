{
 "cells": [
  {
   "cell_type": "markdown",
   "metadata": {},
   "source": [
    "# Shawn's Workspace"
   ]
  },
  {
   "cell_type": "code",
   "execution_count": 9,
   "metadata": {},
   "outputs": [],
   "source": [
    "from modsim import *\n",
    "from math import *\n",
    "#takes velocity"
   ]
  },
  {
   "cell_type": "code",
   "execution_count": 14,
   "metadata": {},
   "outputs": [
    {
     "ename": "TypeError",
     "evalue": "unsupported operand type(s) for ^: 'float' and 'int'",
     "output_type": "error",
     "traceback": [
      "\u001b[1;31m---------------------------------------------------------------------------\u001b[0m",
      "\u001b[1;31mTypeError\u001b[0m                                 Traceback (most recent call last)",
      "\u001b[1;32m<ipython-input-14-5b831516784c>\u001b[0m in \u001b[0;36m<module>\u001b[1;34m()\u001b[0m\n\u001b[0;32m      1\u001b[0m mars = System(duration = 687, #days\n\u001b[1;32m----> 2\u001b[1;33m \u001b[0mdistance_sun\u001b[0m \u001b[1;33m=\u001b[0m \u001b[1;36m227.9\u001b[0m \u001b[1;33m*\u001b[0m \u001b[1;36m10\u001b[0m \u001b[1;33m^\u001b[0m \u001b[1;36m6\u001b[0m\u001b[1;33m,\u001b[0m \u001b[1;31m#km\u001b[0m\u001b[1;33m\u001b[0m\u001b[0m\n\u001b[0m\u001b[0;32m      3\u001b[0m \u001b[0mdistance_orbit\u001b[0m \u001b[1;33m=\u001b[0m \u001b[0mdistance_sun\u001b[0m \u001b[1;33m*\u001b[0m \u001b[1;36m3.14159\u001b[0m\u001b[1;33m\u001b[0m\u001b[0m\n\u001b[0;32m      4\u001b[0m )\n",
      "\u001b[1;31mTypeError\u001b[0m: unsupported operand type(s) for ^: 'float' and 'int'"
     ]
    }
   ],
   "source": [
    "mars = System(duration = 687, #days\n",
    "distance_sun = 227.9 * 10 ^ 6, #km\n",
    "distance_orbit = distance_sun * 3.14159\n",
    ")\n"
   ]
  },
  {
   "cell_type": "code",
   "execution_count": 19,
   "metadata": {},
   "outputs": [],
   "source": [
    "               \n",
    "m = UNITS.meter\n",
    "km = UNITS.kilometer\n",
    "s = UNITS.second\n",
    "kg = UNITS.kilogram\n",
    "N = kg * m /(s**2)\n",
    "kN = kg * m /(s**2) * 1000\n",
    "G = 6.67408 * (10**-11) * m**3 * kg**-1 * s**-2\n",
    "\n",
    "mars = System(x= 0 * m,\n",
    "              y= 0 * m,\n",
    "              radius = 3396200 * m,\n",
    "              mass = .64171 * (10**24) * kg    \n",
    "                )\n",
    "\n",
    "rocket = System(x= -1 * mars.radius,\n",
    "                y= 0 * m,\n",
    "                dry_mass = 1433788 * kg,\n",
    "                rho = 0.02 * kg/m**3, #needs function to update\n",
    "                h = 0 * m, #height\n",
    "                thrust = 22800000 * N,\n",
    "                fuel_init = 1000000 * kg\n",
    "               )\n"
   ]
  },
  {
   "cell_type": "code",
   "execution_count": 61,
   "metadata": {},
   "outputs": [
    {
     "data": {
      "text/plain": [
       "(<Quantity(8594754.841343474, 'meter / second')>,\n",
       " <Quantity(8570674.841343474, 'meter / second')>)"
      ]
     },
     "execution_count": 61,
     "metadata": {},
     "output_type": "execute_result"
    }
   ],
   "source": [
    "sun = Condition(x = 0 * m, #i'm using conditions instead of systems to reduce the am't of systems we have\n",
    "             y = 0 * m,\n",
    "             mass = 1.9891e30 * kg             \n",
    "            )\n",
    "\n",
    "mars = Condition(orbital_radius = 227.9e9 * m,\n",
    "              radius = 3396200 * m,\n",
    "              mass = .64171e24 * kg,\n",
    "              orbital_speed = 24080 * m/s \n",
    "                )\n",
    "\n",
    "saturn = Condition(orbital_radius = 1.429e12 * m,\n",
    "                mass = 5.683e26 * kg,\n",
    "                orbital_speed = 9680 *m/s,\n",
    "                radius= 58.232e6 * m\n",
    "                )\n",
    "\n",
    "titan = Condition(radius = 2575e3 *m,\n",
    "               mass = 1.3455e23 * kg,\n",
    "               orbital_speed = 5570 *m/s,\n",
    "               orbital_radius = 1221865e3 * m\n",
    "              )\n",
    "\n",
    "rocket = Condition(orbital_radius = 0 *m,\n",
    "                dry_mass = 1433788 * kg,\n",
    "                rho = 0.02 * kg/m**3, #needs function to update\n",
    "                thrust = 22800000 * N,\n",
    "                fuel_init = 1000000 * kg\n",
    "               )\n",
    "\n",
    "\n",
    "\n",
    "sun.mass, saturn.radius, mars.radius\n",
    "vp = (2*G*sun.mass*(saturn.radius/(mars.radius*(mars.radius+saturn.radius))))**(1/2)\n",
    "\n",
    "dv1 = vp - mars.orbital_speed\n",
    "vp, dv1\n",
    "#va = vp*(mars.radius/saturn.radius)\n",
    "#dV2 = saturn.orbital_speed - va\n",
    "\n",
    "#dv = g*I*ln(mass_initial/mass_final)"
   ]
  },
  {
   "cell_type": "code",
   "execution_count": 62,
   "metadata": {},
   "outputs": [
    {
     "data": {
      "text/html": [
       "880.9648437806447 meter/second"
      ],
      "text/latex": [
       "$880.9648437806447 \\frac{meter}{second}$"
      ],
      "text/plain": [
       "<Quantity(880.9648437806447, 'meter / second')>"
      ]
     },
     "execution_count": 62,
     "metadata": {},
     "output_type": "execute_result"
    }
   ],
   "source": [
    "#stage 2\n",
    "thrust_magnitude = 934000 * N,\n",
    "flow_rate = -273.6 * kg/s\n",
    "mass_initial = 108000 * kg\n",
    "g = 9.81 * m * s**-2\n",
    "I = 307.4 * s #Merlin in vacuum from https://www.reddit.com/r/spacex/comments/3lsm0q/f9ft_vs_f9v11_fuel_mass_flow_rate_isp/\n",
    "#calculate change in velocity based on input burn time\n",
    "def calc_dv(burn_time):\n",
    "    #dv = g*I*ln(mass_initial/mass_initial/flow_rate/burn_time/s)\n",
    "    new_mass = mass_initial + burn_time*s*flow_rate\n",
    "    dv = g*I*log(mass_initial/new_mass)\n",
    "    return dv\n",
    "    \n",
    "calc_dv(100)"
   ]
  },
  {
   "cell_type": "code",
   "execution_count": null,
   "metadata": {
    "collapsed": true
   },
   "outputs": [],
   "source": []
  },
  {
   "cell_type": "raw",
   "metadata": {},
   "source": []
  },
  {
   "cell_type": "code",
   "execution_count": null,
   "metadata": {
    "collapsed": true
   },
   "outputs": [],
   "source": [
    "def calc_vp(dv, r1, r2): #rad2 is the radius to agpogee (greater)\n",
    "    (2*G*sun.mass*(r2/(r1*(r1+r2))))**(1/2)\n"
   ]
  },
  {
   "cell_type": "code",
   "execution_count": null,
   "metadata": {
    "collapsed": true
   },
   "outputs": [],
   "source": []
  }
 ],
 "metadata": {
  "kernelspec": {
   "display_name": "Python 3",
   "language": "python",
   "name": "python3"
  },
  "language_info": {
   "codemirror_mode": {
    "name": "ipython",
    "version": 3
   },
   "file_extension": ".py",
   "mimetype": "text/x-python",
   "name": "python",
   "nbconvert_exporter": "python",
   "pygments_lexer": "ipython3",
   "version": "3.6.1"
  }
 },
 "nbformat": 4,
 "nbformat_minor": 2
}
