{
 "cells": [
  {
   "cell_type": "markdown",
   "metadata": {},
   "source": [
    "# MOD_SIM_P_3 Workspace\n",
    "\n",
    "By Corey Cochran-Lepiz,\n",
    "   Shawn Albertson\n",
    "   \n",
    "Orbital Trajectories"
   ]
  },
  {
   "cell_type": "markdown",
   "metadata": {},
   "source": [
    "### First step in any good code:import your libraries!\n"
   ]
  },
  {
   "cell_type": "code",
   "execution_count": 2,
   "metadata": {
    "collapsed": true
   },
   "outputs": [],
   "source": [
    "from math import *\n",
    "from modsim import *"
   ]
  },
  {
   "cell_type": "markdown",
   "metadata": {},
   "source": [
    "### Setup your units"
   ]
  },
  {
   "cell_type": "code",
   "execution_count": 3,
   "metadata": {
    "collapsed": true
   },
   "outputs": [],
   "source": [
    "m = UNITS.meter\n",
    "km = UNITS.kilometer\n",
    "s = UNITS.second\n",
    "kg = UNITS.kilogram\n",
    "N = kg * m/(s**2)\n",
    "kN = kg * m/(s**2) * 1000\n",
    "G = 6.67408 * (10**-11) * m**3 * kg**-1 * s**-2\n"
   ]
  },
  {
   "cell_type": "code",
   "execution_count": 16,
   "metadata": {},
   "outputs": [],
   "source": [
    "mars = System(x= 0 * m,\n",
    "              y= 0 * m,\n",
    "              radius = 3396200 * m,\n",
    "              mass = .64171 * (10**24) * kg    \n",
    "                )\n",
    "\n",
    "rocket = System(x= -1 * mars.radius,\n",
    "                y= 0 * m,\n",
    "                dry_mass = 1433788 * kg,\n",
    "                rho = 0.02 * kg/m**3, #needs function to update\n",
    "                h = 0 * m, #height\n",
    "                thrust = 22800000 * N,\n",
    "                fuel_init = 1000000 * kg\n",
    "               )\n"
   ]
  },
  {
   "cell_type": "markdown",
   "metadata": {},
   "source": [
    "## Things to make for next time\n",
    "### A function that calculates:\n",
    "### Height, force of drag, gravity (with vector pointing 0,0), rho (air density), mass (as we lose propellant), thrust (stages?)."
   ]
  },
  {
   "cell_type": "code",
   "execution_count": null,
   "metadata": {
    "collapsed": true
   },
   "outputs": [],
   "source": [
    "def calc_mass_r(t):\n",
    "    rocket.fuel_init * -.18 * t\n",
    "    return rocket.dry_mass + rocket.fuel_init\n",
    "    \n",
    "calc_mass_rocket(30)"
   ]
  },
  {
   "cell_type": "code",
   "execution_count": 26,
   "metadata": {},
   "outputs": [],
   "source": [
    "def calc_grav(height, mass_rocket):\n",
    "    # G is the gravitational constant\n",
    "    return G * mars.mass * mass_rocket / (height * m + mars.radius)**2\n"
   ]
  },
  {
   "cell_type": "code",
   "execution_count": 27,
   "metadata": {},
   "outputs": [
    {
     "data": {
      "text/html": [
       "9021100.56992121 kilogram meter/second<sup>2</sup>"
      ],
      "text/latex": [
       "$9021100.56992121 \\frac{kilogram \\cdot meter}{second^{2}}$"
      ],
      "text/plain": [
       "<Quantity(9021100.56992121, 'kilogram * meter / second ** 2')>"
      ]
     },
     "execution_count": 27,
     "metadata": {},
     "output_type": "execute_result"
    }
   ],
   "source": [
    "a = calc_mass_r(100)\n",
    "calc_grav(3000, a)"
   ]
  },
  {
   "cell_type": "code",
   "execution_count": 10,
   "metadata": {
    "collapsed": true
   },
   "outputs": [],
   "source": [
    "def height_from_mars(x,y): #Assuming that mars is at the origin\n",
    "    #[theta,rho] = cart2pol(x,y) #but it doens't like big numbers\n",
    "    x /= m #strip the units\n",
    "    y /= m\n",
    "    rho = sqrt(x**2+y**2) * m #distance formula\n",
    "    height = rho - (3396200*m)\n",
    "    return height\n",
    "\n",
    "def force_of_drag(v,h):\n",
    "    # rho is the air density\n",
    "    # v is velocity of rocket\n",
    "    # c_d is drag coeffeciant of drag of rocket\n",
    "    # but it's dependant on velocity\n",
    "    C_d = drag(v)\n",
    "    return -(1/2) * rho * v.mag * v * C_d * area\n",
    "\n",
    "def rho(h): #math from NASA https://www.grc.nasa.gov/www/k-12/airplane/atmosmrm.html\n",
    "    if h < 7000: #two zones for density\n",
    "        T = -31 - 0.000998 * h #temp\n",
    "        P = .699*exp(-0.00009*h) #pressure\n",
    "    else:\n",
    "        T = -23.4 - 0.00222*h\n",
    "        P = .699*exp(-0.00009*h)\n",
    "    return P/(.1921*(T+273.1)) #return density"
   ]
  },
  {
   "cell_type": "code",
   "execution_count": null,
   "metadata": {
    "collapsed": true
   },
   "outputs": [],
   "source": [
    "def slope_func(state,t,system):\n",
    "    x, y, vx, vy = state\n",
    "    unpack(system)\n",
    "    \n",
    "    h = height_from_mars(x,y)\n",
    "    a_grav = calc_grav(h)\n",
    "    \n",
    "    v = Vector(vx,vy)\n",
    "    \n",
    "    f_drag = force_of_drag(v.mag,h)\n",
    "    a_drag = d_drag/mass\n",
    "    \n",
    "    a = a_grav + a_drag + a_thrust\n",
    "    \n",
    "    return v.x, v.y, a.x, a.y"
   ]
  },
  {
   "cell_type": "code",
   "execution_count": null,
   "metadata": {
    "collapsed": true
   },
   "outputs": [],
   "source": []
  }
 ],
 "metadata": {
  "kernelspec": {
   "display_name": "Python 3",
   "language": "python",
   "name": "python3"
  },
  "language_info": {
   "codemirror_mode": {
    "name": "ipython",
    "version": 3
   },
   "file_extension": ".py",
   "mimetype": "text/x-python",
   "name": "python",
   "nbconvert_exporter": "python",
   "pygments_lexer": "ipython3",
   "version": "3.6.1"
  }
 },
 "nbformat": 4,
 "nbformat_minor": 2
}
