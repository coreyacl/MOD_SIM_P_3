{
 "cells": [
  {
   "cell_type": "markdown",
   "metadata": {},
   "source": [
    "# MOD_SIM_P_3 Workspace\n",
    "\n",
    "### By Corey Cochran-Lepiz,\n",
    "###   Shawn Albertson\n",
    "   \n",
    "Orbital Trajectories"
   ]
  },
  {
   "cell_type": "markdown",
   "metadata": {},
   "source": [
    "### First step in any good code:import your libraries!\n"
   ]
  },
  {
   "cell_type": "code",
   "execution_count": 2,
   "metadata": {
    "collapsed": true
   },
   "outputs": [],
   "source": [
    "from math import *\n",
    "from modsim import *"
   ]
  },
  {
   "cell_type": "markdown",
   "metadata": {},
   "source": [
    "### Setup your units"
   ]
  },
  {
   "cell_type": "code",
   "execution_count": 3,
   "metadata": {},
   "outputs": [
    {
     "data": {
      "text/plain": [
       "1.96e+26"
      ]
     },
     "execution_count": 3,
     "metadata": {},
     "output_type": "execute_result"
    }
   ],
   "source": [
    "m = UNITS.meter\n",
    "km = UNITS.kilometer\n",
    "s = UNITS.second\n",
    "kg = UNITS.kilogram\n",
    "N = kg * m/(s**2)\n",
    "kN = kg * m/(s**2) * 1000\n",
    "G = 6.67408 * (10**-11) * m**3 * kg**-1 * s**-2\n"
   ]
  },
  {
   "cell_type": "code",
   "execution_count": 4,
   "metadata": {
    "collapsed": true
   },
   "outputs": [],
   "source": [
    "sun = System(x = 0 * m,\n",
    "             y = 0 * m,\n",
    "             mass = 1.9891e30 * kg             \n",
    "            )\n",
    "\n",
    "mars = System(x= -227.9e9 * m,\n",
    "              y= 0 * m ,\n",
    "              radius = 3396200 * m,\n",
    "              mass = .64171e24 * kg    \n",
    "                )\n",
    "\n",
    "saturn = System(x = -1.429e12 * m,\n",
    "                y = 0 * m,\n",
    "                mass = 5.683e26 * kg)\n",
    "\n",
    "rocket = System(x= -1 * mars.radius,\n",
    "                y= 0 * m,\n",
    "                dry_mass = 1433788 * kg,\n",
    "                rho = 0.02 * kg/m**3, #needs function to update\n",
    "                h = 0 * m, #height\n",
    "                thrust = 22800000 * N,\n",
    "                fuel_init = 1000000 * kg\n",
    "               )\n"
   ]
  },
  {
   "cell_type": "markdown",
   "metadata": {},
   "source": [
    "## Things to make for next time\n",
    "### A function that calculates:\n",
    "### Height from planet, gravity (with vector pointing to planet), mass (as we lose propellant), thrust (stages? 3)."
   ]
  },
  {
   "cell_type": "code",
   "execution_count": 6,
   "metadata": {},
   "outputs": [
    {
     "data": {
      "text/html": [
       "2433788 kilogram"
      ],
      "text/latex": [
       "$2433788 kilogram$"
      ],
      "text/plain": [
       "<Quantity(2433788, 'kilogram')>"
      ]
     },
     "execution_count": 6,
     "metadata": {},
     "output_type": "execute_result"
    }
   ],
   "source": [
    "def calc_mass_r(t):\n",
    "    rocket.fuel_init * -.18 * t\n",
    "    return rocket.dry_mass + rocket.fuel_init\n",
    "    \n",
    "calc_mass_r(30)"
   ]
  },
  {
   "cell_type": "code",
   "execution_count": 73,
   "metadata": {},
   "outputs": [
    {
     "name": "stdout",
     "output_type": "stream",
     "text": [
      "3396200.0 meter 3.7131603124948063 meter / second ** 2\n",
      "9037045.01062611 kilogram * meter / second ** 2\n"
     ]
    }
   ],
   "source": [
    "def calc_mgrav(vr,vm, mass_rocket):\n",
    "    \"\"\"\n",
    "    Given the vectors of two objects in space, find the force of gravity acting upon them.\n",
    "    Pass a vector with the x and y positons of the rocket and body in question\n",
    "    G is the gravitational constant\n",
    "    vr is the vector of the rocket\n",
    "    vm is the vector of mars\n",
    "    height is just the distance between the center of the two objects\n",
    "    returns force vector from the rocket towards the body \n",
    "    \"\"\"\n",
    "    height = vr.dist(vm)\n",
    "    grav = G * mars.mass * mass_rocket / (height)**2\n",
    "    print(height,grav/mass_rocket)\n",
    "    \n",
    "    a = Vector(vm.x-vr.x,vm.y-vr.y) #I found the angle to the object from the rocket\n",
    "    x,y = pol2cart(a.angle,grav) #turned the angle and grav into cartesian\n",
    "    \n",
    "    f_grav = Vector(x,y)\n",
    "    return f_grav\n",
    "\n",
    "def calc_satgrav(vr,vsat,mass_rocket):\n",
    "    height = vr.dist(vsat)\n",
    "    grav = G * saturn.mass * mass_rocket / (height)**2\n",
    "\n",
    "    a = Vector(vsat.x-vr.x,vsat.y-vr.y)\n",
    "    x,y = pol2cart(a.angle,grav)\n",
    "    \n",
    "    f_grav = Vector(x,y)\n",
    "    return f_grav\n",
    "\n",
    "def calc_sgrav(vr,mass):\n",
    "    height = vr.dist(Vector(0,0)*m)\n",
    "    grav = G * sun.mass * mass / (height)**2\n",
    "    \n",
    "    x,y = pol2cart(vr.angle,grav)\n",
    "    \n",
    "    f_grav = Vector(x,y)\n",
    "    return f_grav\n",
    "    \n",
    "#TROUBLESHOOTING\n",
    "    \n",
    "#%time calc_sgrav(1.429e12,rocket.dry_mass+rocket.fuel_init)/(rocket.dry_mass+rocket.fuel_init)\n",
    "vr = Vector(1,1) * m\n",
    "vm = Vector(-1,1) * m\n",
    "#%time sqrt((vr.x-vm.x)**2+(vr.y-vm.y)**2)\n",
    "#%time (vr.diff_angle(vm)).to(UNITS.degree)\n",
    "vr.mag\n",
    "#%time acos((vr.x*vm.x+vr.y*vm.y)/sqrt((vr.x**2+vr.x**2)*(vm.x**2+vm.y**2)))\n",
    "a = Vector(vm.x-vr.x,vm.y-vr.y)\n",
    "x,y = pol2cart(a.angle,1)\n",
    "c = Vector(x,y)\n",
    "#vr.dist(vm)\n",
    "#print(c.angle,c.mag)\n",
    "\n",
    "b = calc_mgrav(Vector(-227.9e9*m - mars.radius,0*m),Vector(-227.9e9*m,0*m),rocket.dry_mass+rocket.fuel_init)\n",
    "b.mag/(rocket.dry_mass+rocket.fuel_init)\n",
    "b.angle\n",
    "print(b.mag)"
   ]
  },
  {
   "cell_type": "code",
   "execution_count": 74,
   "metadata": {},
   "outputs": [],
   "source": [
    "#a = calc_mass_r(100)\n",
    "#calc_grav(3000, a)"
   ]
  },
  {
   "cell_type": "code",
   "execution_count": null,
   "metadata": {
    "collapsed": true
   },
   "outputs": [],
   "source": []
  },
  {
   "cell_type": "code",
   "execution_count": 10,
   "metadata": {
    "collapsed": true
   },
   "outputs": [],
   "source": [
    "def height_from_mars(x,y): #Assuming that mars is at the origin\n",
    "    \"\"\"\"\n",
    "    Given an x and y returns the distance from the center\n",
    "    of Mars assuming that Mars is at the origin.\n",
    "    \n",
    "    \"\"\"\"\n",
    "    #[theta,rho] = cart2pol(x,y) #but it doens't like big numbers\n",
    "    x /= m #strip the units\n",
    "    y /= m\n",
    "    rho = sqrt(x**2+y**2) * m #distance formula\n",
    "    height = rho - (3396200*m)\n",
    "    return height\n",
    "\n",
    "def force_of_drag(v,h):\n",
    "    \"\"\"\"\n",
    "    Returns the force of drag given velocity of the object\n",
    "    and it's distance away from the planet\n",
    "    \n",
    "    rho is the air density\n",
    "    v is velocity of rocket\n",
    "    c_d is drag coeffeciant of drag of the rocket but it's dependant on velocity\n",
    "    \"\"\"\"\n",
    "    C_d = drag(v)\n",
    "    return -(1/2) * rho * v.mag * v * C_d * area\n",
    "\n",
    "def rho(h): #math from NASA https://www.grc.nasa.gov/www/k-12/airplane/atmosmrm.html\n",
    "    \"\"\"\"\n",
    "    Returns the air density of Mars above the ground given the height\n",
    "    \"\"\"\"\n",
    "    if h < 7000: #two zones for density\n",
    "        T = -31 - 0.000998 * h #temp\n",
    "        P = .699*exp(-0.00009*h) #pressure\n",
    "    else:\n",
    "        T = -23.4 - 0.00222*h\n",
    "        P = .699*exp(-0.00009*h)\n",
    "    return P/(.1921*(T+273.1)) #return density\n",
    "\n",
    "def accel_thrust(system,v,t): #UNDONE\n",
    "    \"\"\"\"\n",
    "    Returns an accel vector of thrust given a system, the objects velocity, and time.\n",
    "    \"\"\"\"\n",
    "    unpack(system)\n",
    "    \n",
    "    \n",
    "    return a_thrust"
   ]
  },
  {
   "cell_type": "code",
   "execution_count": null,
   "metadata": {
    "collapsed": true
   },
   "outputs": [],
   "source": [
    "def slope_func(state,t,system):\n",
    "    x, y, vx, vy = state\n",
    "    unpack(system)\n",
    "    \n",
    "    h = height_from_mars(x,y)\n",
    "    a_grav = calc_grav(h)\n",
    "    \n",
    "    v = Vector(vx,vy)\n",
    "    \n",
    "    f_drag = force_of_drag(v.mag,h)\n",
    "    a_drag = d_drag/mass\n",
    "    \n",
    "    a_thrust = accel_thrust(system,v,t)\n",
    "    \n",
    "    a = a_grav + a_drag + a_thrust\n",
    "    \n",
    "    return v.x, v.y, a.x, a.y"
   ]
  },
  {
   "cell_type": "code",
   "execution_count": null,
   "metadata": {
    "collapsed": true
   },
   "outputs": [],
   "source": []
  }
 ],
 "metadata": {
  "kernelspec": {
   "display_name": "Python 3",
   "language": "python",
   "name": "python3"
  },
  "language_info": {
   "codemirror_mode": {
    "name": "ipython",
    "version": 3
   },
   "file_extension": ".py",
   "mimetype": "text/x-python",
   "name": "python",
   "nbconvert_exporter": "python",
   "pygments_lexer": "ipython3",
   "version": "3.6.1"
  }
 },
 "nbformat": 4,
 "nbformat_minor": 2
}
