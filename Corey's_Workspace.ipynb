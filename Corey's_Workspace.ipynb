{
 "cells": [
  {
   "cell_type": "markdown",
   "metadata": {},
   "source": [
    "# Corey's Workspace\n",
    "#### A place for Corey to work without bother from others"
   ]
  },
  {
   "cell_type": "code",
   "execution_count": 1,
   "metadata": {
    "collapsed": true
   },
   "outputs": [],
   "source": [
    "from math import *\n",
    "from modsim import *"
   ]
  },
  {
   "cell_type": "code",
   "execution_count": 27,
   "metadata": {
    "collapsed": true
   },
   "outputs": [],
   "source": [
    "m = UNITS.meter\n",
    "km = UNITS.kilometer\n",
    "s = UNITS.second\n",
    "kg = UNITS.kilogram\n",
    "newt = kg * m/(s**2)\n"
   ]
  },
  {
   "cell_type": "code",
   "execution_count": 3,
   "metadata": {
    "collapsed": true
   },
   "outputs": [],
   "source": [
    "condition_mars = Condition(x= 0 * m,\n",
    "                           y= 0 * m,\n",
    "                           radius = 3396.2 * km,\n",
    "                           mass = .64171 * (10**24) * kg    \n",
    "                           )\n",
    "\n",
    "condition_rocket = Condition(x= -1 * condition_mars.radius,\n",
    "                             y= 0 * km,\n",
    "                             mass = 1433788 * kg,\n",
    "                             rho = 0.02 * kg/m**3, #needs function to update\n",
    "                             h = 0 * m #height\n",
    "                            )\n"
   ]
  },
  {
   "cell_type": "code",
   "execution_count": 57,
   "metadata": {
    "collapsed": true
   },
   "outputs": [],
   "source": [
    "def height_from_mars(x,y): #Assuming that mars is at the origin\n",
    "    #[theta,rho] = cart2pol(x,y) #but it doens't like big numbers\n",
    "    x /= m #strip the units\n",
    "    y /= m\n",
    "    rho = sqrt(x**2+y**2) * m #distance formula\n",
    "    height = rho - (3396200*m)\n",
    "    return height\n",
    "\n",
    "def force_of_drag(v,h):\n",
    "    # rho is the air density\n",
    "    # v is velocity of rocket\n",
    "    # c_d is drag coeffeciant of drag of rocket\n",
    "    # but it's dependant on velocity\n",
    "    C_d = drag(v)\n",
    "    return -(1/2) * rho * v.mag * v * C_d * area\n",
    "\n",
    "def rho(h): #math from NASA https://www.grc.nasa.gov/www/k-12/airplane/atmosmrm.html\n",
    "    if h < 7000: #two zones for density\n",
    "        T = -31 - 0.000998 * h #temp\n",
    "        P = .699*exp(-0.00009*h) #pressure\n",
    "    else:\n",
    "        T = -23.4 - 0.00222*h\n",
    "        P = .699*exp(-0.00009*h)\n",
    "    return P/(.1921*(T+273.1)) #return density\n",
    "\n",
    "def f_thrust(system,v,t):\n",
    "    "
   ]
  },
  {
   "cell_type": "code",
   "execution_count": null,
   "metadata": {
    "collapsed": true
   },
   "outputs": [],
   "source": [
    "def slope_func(state,t,system):\n",
    "    x, y, vx, vy = state\n",
    "    unpack(system)\n",
    "    \n",
    "    h = height_from_mars(x,y)\n",
    "    a_grav = calc_grav(h)\n",
    "    \n",
    "    v = Vector(vx,vy)\n",
    "    \n",
    "    f_drag = force_of_drag(v.mag,h)\n",
    "    a_drag = d_drag/mass\n",
    "    \n",
    "    a_thrust = force_of_thrust()\n",
    "    \n",
    "    a = a_grav + a_drag + a_thrust\n",
    "    \n",
    "    return v.x, v.y, a.x, a.y\n",
    "\n",
    "#Functions needed: force_of_thrust()\n",
    "#Ideal rocket equation website https://spaceflightsystems.grc.nasa.gov/education/rocket/rktpow.html"
   ]
  },
  {
   "cell_type": "code",
   "execution_count": null,
   "metadata": {
    "collapsed": true
   },
   "outputs": [],
   "source": []
  },
  {
   "cell_type": "code",
   "execution_count": null,
   "metadata": {
    "collapsed": true
   },
   "outputs": [],
   "source": []
  },
  {
   "cell_type": "code",
   "execution_count": null,
   "metadata": {
    "collapsed": true
   },
   "outputs": [],
   "source": []
  }
 ],
 "metadata": {
  "kernelspec": {
   "display_name": "Python 3",
   "language": "python",
   "name": "python3"
  },
  "language_info": {
   "codemirror_mode": {
    "name": "ipython",
    "version": 3
   },
   "file_extension": ".py",
   "mimetype": "text/x-python",
   "name": "python",
   "nbconvert_exporter": "python",
   "pygments_lexer": "ipython3",
   "version": "3.6.1"
  }
 },
 "nbformat": 4,
 "nbformat_minor": 2
}
