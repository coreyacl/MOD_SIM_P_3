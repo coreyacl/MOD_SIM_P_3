{
 "cells": [
  {
   "cell_type": "markdown",
   "metadata": {},
   "source": [
    "# Shawn's Workspace"
   ]
  },
  {
   "cell_type": "code",
   "execution_count": 9,
   "metadata": {},
   "outputs": [],
   "source": [
    "from modsim import *\n",
    "from math import *\n",
    "#takes velocity"
   ]
  },
  {
   "cell_type": "code",
   "execution_count": 82,
   "metadata": {},
   "outputs": [
    {
     "ename": "SyntaxError",
     "evalue": "invalid syntax (<ipython-input-82-f1f2c6ef6756>, line 13)",
     "output_type": "error",
     "traceback": [
      "\u001b[1;36m  File \u001b[1;32m\"<ipython-input-82-f1f2c6ef6756>\"\u001b[1;36m, line \u001b[1;32m13\u001b[0m\n\u001b[1;33m    orbital_speed = 24080 * m/s\u001b[0m\n\u001b[1;37m                ^\u001b[0m\n\u001b[1;31mSyntaxError\u001b[0m\u001b[1;31m:\u001b[0m invalid syntax\n"
     ]
    }
   ],
   "source": [
    "m = UNITS.meter\n",
    "km = UNITS.kilometer\n",
    "s = UNITS.second\n",
    "kg = UNITS.kilogram\n",
    "N = kg * m /(s**2)\n",
    "kN = kg * m /(s**2) * 1000\n",
    "G = 6.67408 * (10**-11) * m**3 * kg**-1 * s**-2\n",
    "\n",
    "mars = System(x= 0 * m,\n",
    "              y= 0 * m,\n",
    "              radius = 3396200 * m,\n",
    "              mass = .64171 * (10**24) * kg\n",
    "              orbital_speed = 24080 * m/s \n",
    "                )\n",
    "\n",
    "rocket = System(x= -1 * mars.radius,\n",
    "                y= 0 * m,\n",
    "                dry_mass = 1433788 * kg,\n",
    "                rho = 0.02 * kg/m**3, #needs function to update\n",
    "                h = 0 * m, #height\n",
    "                thrust = 22800000 * N,\n",
    "                fuel_init = 1000000 * kg\n",
    "               )\n"
   ]
  },
  {
   "cell_type": "code",
   "execution_count": 92,
   "metadata": {},
   "outputs": [],
   "source": [
    "sun = System(x = 0 * m, #i'm using conditions instead of systems to reduce the am't of systems we have\n",
    "             y = 0 * m, # I converted sun and mars to systems for now\n",
    "                        # because something wasn't working with the make system function\n",
    "             mass = 1.9891e30 * kg             \n",
    "            )\n",
    "\n",
    "mars = System(orbital_radius = 227.9e9 * m,\n",
    "              radius = 3396200 * m,\n",
    "              mass = .64171e24 * kg,\n",
    "              orbital_speed = 24080 * m/s \n",
    "                )\n",
    "\n",
    "saturn = Condition(orbital_radius = 1.429e12 * m,\n",
    "                mass = 5.683e26 * kg,\n",
    "                orbital_speed = 9680 *m/s,\n",
    "                radius= 58.232e6 * m\n",
    "                )\n",
    "\n",
    "titan = Condition(radius = 2575e3 *m,\n",
    "               mass = 1.3455e23 * kg,\n",
    "               orbital_speed = 5570 *m/s,\n",
    "               orbital_radius = 1221865e3 * m\n",
    "              )\n",
    "\n",
    "rocket = Condition(orbital_radius = 0 *m,\n",
    "                dry_mass = 1433788 * kg,\n",
    "                rho = 0.02 * kg/m**3, #needs function to update\n",
    "                thrust = 22800000 * N,\n",
    "                fuel_init = 1000000 * kg\n",
    "               )\n",
    "\n",
    "\n",
    "###\n",
    "#sun.mass, saturn.radius, mars.radius\n",
    "#vp = (2*G*sun.mass*(saturn.radius/(mars.radius*(mars.radius+saturn.radius))))**(1/2)\n",
    "\n",
    "#dv1 = vp - mars.orbital_speed\n",
    "#va = vp*(mars.radius/saturn.radius)\n",
    "#dV2 = saturn.orbital_speed - va\n",
    "\n",
    "#dv = g*I*ln(mass_initial/mass_final)"
   ]
  },
  {
   "cell_type": "code",
   "execution_count": 67,
   "metadata": {},
   "outputs": [],
   "source": [
    "def make_system_planet(condition,theta): #in degrees\n",
    "    \n",
    "    unpack(condition)\n",
    "    \n",
    "    theta1 = np.deg2rad(theta*UNITS.degree)\n",
    "    \n",
    "    x,y = pol2cart(theta1,orbital_radius)\n",
    "    \n",
    "    vx,vx = pol2cart(theta1+.5*pi*UNITS.radian,orbital_speed)\n",
    "    \n",
    "    init = State(x=x,y=y,vx=vx,vy=vy)\n",
    "    \n",
    "    return System(init=init,mass=mass)\n",
    "    \n",
    "def make_system_titan(condition,system,theta):\n",
    "    \n",
    "    unpack(condition)\n",
    "    \n",
    "    theta1 = np.deg2rad(theta*UNITS.degree)\n",
    "    \n",
    "    a = Vector(system.init.x,system.init.y)\n",
    "    \n",
    "    x,y = pol2cart(theta1,orbital_radius)\n",
    "    \n",
    "    vx,vx = pol2cart(theta1+.5*pi*UNITS.radian,orbital_speed)\n",
    "    \n",
    "    init = State(x=x,y=y,vx=vx,vy=vy)\n",
    "    \n",
    "    return System(init=init,mass=mass)\n",
    "\n",
    "    \n",
    "def slope_func(state,t,system):\n",
    "    x, y, vx, vy = state\n",
    "    unpack(system)\n",
    "    \n",
    "    h = height_from_mars(x,y)\n",
    "    a_grav = calc_grav(h)\n",
    "    \n",
    "    v = Vector(vx,vy)\n",
    "    \n",
    "    f_drag = force_of_drag(v.mag,h)\n",
    "    a_drag = d_drag/mass\n",
    "    \n",
    "    a_thrust = accel_thrust(system,v,t)\n",
    "    \n",
    "    a = a_grav + a_drag + a_thrust\n",
    "    \n",
    "    return v.x, v.y, a.x, a.y\n",
    "\n"
   ]
  },
  {
   "cell_type": "markdown",
   "metadata": {},
   "source": [
    "# This is the start of the things I've done today"
   ]
  },
  {
   "cell_type": "code",
   "execution_count": 62,
   "metadata": {},
   "outputs": [
    {
     "data": {
      "text/html": [
       "880.9648437806447 meter/second"
      ],
      "text/latex": [
       "$880.9648437806447 \\frac{meter}{second}$"
      ],
      "text/plain": [
       "<Quantity(880.9648437806447, 'meter / second')>"
      ]
     },
     "execution_count": 62,
     "metadata": {},
     "output_type": "execute_result"
    }
   ],
   "source": [
    "thrust_magnitude = 934000 * N,\n",
    "flow_rate = -273.6 * kg/s\n",
    "mass_initial = 108000 * kg\n",
    "g = 9.81 * m * s**-2\n",
    "I = 307.4 * s #Merlin in vacuum from https://www.reddit.com/r/spacex/comments/3lsm0q/f9ft_vs_f9v11_fuel_mass_flow_rate_isp/\n",
    "\n",
    "def calc_dv(burn_time):\n",
    "    \"\"\" \n",
    "    Calculates a change in velocity, taking burn time of thrusters as input\n",
    "    implies a constant thrust, defined above\n",
    "    refers to STAGE TWO of Spacex Falcon 9, link to source above\n",
    "    \"\"\"\n",
    "    new_mass = mass_initial + burn_time*s*flow_rate\n",
    "    \"\"\"\n",
    "    Calculates change in mass of fuel over time \n",
    "    references flow rate from source\n",
    "    \"\"\"\n",
    "    dv = g*I*log(mass_initial/new_mass)\n",
    "    return dv\n",
    "    \n",
    "calc_dv(100)\n"
   ]
  },
  {
   "cell_type": "code",
   "execution_count": 95,
   "metadata": {},
   "outputs": [
    {
     "ename": "DimensionalityError",
     "evalue": "Cannot convert from 'meter / second' to 'dimensionless'",
     "output_type": "error",
     "traceback": [
      "\u001b[1;31m---------------------------------------------------------------------------\u001b[0m",
      "\u001b[1;31mDimensionalityError\u001b[0m                       Traceback (most recent call last)",
      "\u001b[1;32m<ipython-input-95-5b9a6c647532>\u001b[0m in \u001b[0;36m<module>\u001b[1;34m()\u001b[0m\n\u001b[0;32m      7\u001b[0m     \u001b[1;32mreturn\u001b[0m \u001b[0mr1\u001b[0m\u001b[1;33m,\u001b[0m \u001b[0mr2\u001b[0m\u001b[1;33m\u001b[0m\u001b[0m\n\u001b[0;32m      8\u001b[0m \u001b[1;33m\u001b[0m\u001b[0m\n\u001b[1;32m----> 9\u001b[1;33m \u001b[0mcalc_radii\u001b[0m\u001b[1;33m(\u001b[0m\u001b[1;36m1000\u001b[0m\u001b[1;33m)\u001b[0m\u001b[1;33m\u001b[0m\u001b[0m\n\u001b[0m\u001b[0;32m     10\u001b[0m \u001b[1;33m\u001b[0m\u001b[0m\n\u001b[0;32m     11\u001b[0m \u001b[1;33m\u001b[0m\u001b[0m\n",
      "\u001b[1;32m<ipython-input-95-5b9a6c647532>\u001b[0m in \u001b[0;36mcalc_radii\u001b[1;34m(dv)\u001b[0m\n\u001b[0;32m      1\u001b[0m \u001b[1;32mdef\u001b[0m \u001b[0mcalc_radii\u001b[0m\u001b[1;33m(\u001b[0m\u001b[0mdv\u001b[0m\u001b[1;33m)\u001b[0m\u001b[1;33m:\u001b[0m\u001b[1;33m\u001b[0m\u001b[0m\n\u001b[1;32m----> 2\u001b[1;33m     \u001b[0mvp\u001b[0m \u001b[1;33m=\u001b[0m  \u001b[0mmars\u001b[0m\u001b[1;33m.\u001b[0m\u001b[0morbital_speed\u001b[0m \u001b[1;33m+\u001b[0m \u001b[0mdv\u001b[0m\u001b[1;33m\u001b[0m\u001b[0m\n\u001b[0m\u001b[0;32m      3\u001b[0m     \u001b[0mf\u001b[0m \u001b[1;33m=\u001b[0m \u001b[0mG\u001b[0m \u001b[1;33m*\u001b[0m \u001b[0msun\u001b[0m\u001b[1;33m.\u001b[0m\u001b[0mmass\u001b[0m\u001b[1;33m*\u001b[0m\u001b[0mmars\u001b[0m\u001b[1;33m.\u001b[0m\u001b[0mradius\u001b[0m \u001b[1;33m-\u001b[0m \u001b[1;33m(\u001b[0m\u001b[0mvp\u001b[0m\u001b[1;33m**\u001b[0m\u001b[1;36m2\u001b[0m\u001b[1;33m)\u001b[0m\u001b[1;33m*\u001b[0m\u001b[1;33m(\u001b[0m\u001b[0mmars\u001b[0m\u001b[1;33m.\u001b[0m\u001b[0mradius\u001b[0m\u001b[1;33m**\u001b[0m\u001b[1;36m2\u001b[0m\u001b[1;33m)\u001b[0m\u001b[1;33m/\u001b[0m \u001b[1;33m(\u001b[0m\u001b[1;33m(\u001b[0m\u001b[0mvp\u001b[0m\u001b[1;33m**\u001b[0m\u001b[1;36m2\u001b[0m\u001b[1;33m)\u001b[0m\u001b[1;33m*\u001b[0m\u001b[1;33m(\u001b[0m\u001b[0mmars\u001b[0m\u001b[1;33m.\u001b[0m\u001b[0mradius\u001b[0m\u001b[1;33m)\u001b[0m\u001b[1;33m-\u001b[0m\u001b[1;36m2\u001b[0m\u001b[1;33m*\u001b[0m\u001b[0mG\u001b[0m\u001b[1;33m*\u001b[0m\u001b[0msun\u001b[0m\u001b[1;33m.\u001b[0m\u001b[0mmass\u001b[0m\u001b[1;33m)\u001b[0m\u001b[1;33m\u001b[0m\u001b[0m\n\u001b[0;32m      4\u001b[0m     \u001b[0mprint\u001b[0m\u001b[1;33m(\u001b[0m\u001b[0mf\u001b[0m\u001b[1;33m)\u001b[0m\u001b[1;33m\u001b[0m\u001b[0m\n\u001b[0;32m      5\u001b[0m     \u001b[0mr1\u001b[0m \u001b[1;33m=\u001b[0m \u001b[0mmars\u001b[0m\u001b[1;33m.\u001b[0m\u001b[0mradius\u001b[0m\u001b[1;33m\u001b[0m\u001b[0m\n",
      "\u001b[1;32mC:\\ProgramData\\Miniconda3\\lib\\site-packages\\pint\\quantity.py\u001b[0m in \u001b[0;36m__add__\u001b[1;34m(self, other)\u001b[0m\n\u001b[0;32m    585\u001b[0m \u001b[1;33m\u001b[0m\u001b[0m\n\u001b[0;32m    586\u001b[0m     \u001b[1;32mdef\u001b[0m \u001b[0m__add__\u001b[0m\u001b[1;33m(\u001b[0m\u001b[0mself\u001b[0m\u001b[1;33m,\u001b[0m \u001b[0mother\u001b[0m\u001b[1;33m)\u001b[0m\u001b[1;33m:\u001b[0m\u001b[1;33m\u001b[0m\u001b[0m\n\u001b[1;32m--> 587\u001b[1;33m         \u001b[1;32mreturn\u001b[0m \u001b[0mself\u001b[0m\u001b[1;33m.\u001b[0m\u001b[0m_add_sub\u001b[0m\u001b[1;33m(\u001b[0m\u001b[0mother\u001b[0m\u001b[1;33m,\u001b[0m \u001b[0moperator\u001b[0m\u001b[1;33m.\u001b[0m\u001b[0madd\u001b[0m\u001b[1;33m)\u001b[0m\u001b[1;33m\u001b[0m\u001b[0m\n\u001b[0m\u001b[0;32m    588\u001b[0m \u001b[1;33m\u001b[0m\u001b[0m\n\u001b[0;32m    589\u001b[0m     \u001b[0m__radd__\u001b[0m \u001b[1;33m=\u001b[0m \u001b[0m__add__\u001b[0m\u001b[1;33m\u001b[0m\u001b[0m\n",
      "\u001b[1;32mC:\\ProgramData\\Miniconda3\\lib\\site-packages\\pint\\quantity.py\u001b[0m in \u001b[0;36m_add_sub\u001b[1;34m(self, other, op)\u001b[0m\n\u001b[0;32m    501\u001b[0m                                _to_magnitude(other, self.force_ndarray))\n\u001b[0;32m    502\u001b[0m             \u001b[1;32melse\u001b[0m\u001b[1;33m:\u001b[0m\u001b[1;33m\u001b[0m\u001b[0m\n\u001b[1;32m--> 503\u001b[1;33m                 \u001b[1;32mraise\u001b[0m \u001b[0mDimensionalityError\u001b[0m\u001b[1;33m(\u001b[0m\u001b[0mself\u001b[0m\u001b[1;33m.\u001b[0m\u001b[0m_units\u001b[0m\u001b[1;33m,\u001b[0m \u001b[1;34m'dimensionless'\u001b[0m\u001b[1;33m)\u001b[0m\u001b[1;33m\u001b[0m\u001b[0m\n\u001b[0m\u001b[0;32m    504\u001b[0m             \u001b[1;32mreturn\u001b[0m \u001b[0mself\u001b[0m\u001b[1;33m.\u001b[0m\u001b[0m__class__\u001b[0m\u001b[1;33m(\u001b[0m\u001b[0mmagnitude\u001b[0m\u001b[1;33m,\u001b[0m \u001b[0munits\u001b[0m\u001b[1;33m)\u001b[0m\u001b[1;33m\u001b[0m\u001b[0m\n\u001b[0;32m    505\u001b[0m \u001b[1;33m\u001b[0m\u001b[0m\n",
      "\u001b[1;31mDimensionalityError\u001b[0m: Cannot convert from 'meter / second' to 'dimensionless'"
     ]
    }
   ],
   "source": [
    "def calc_radii(dv):\n",
    "    vp =  mars.orbital_speed + dv\n",
    "    \"\"\"\n",
    "    Takes the change in velocity from the previous function\n",
    "    Adds change in velocity to speed of mars, gives us speed of rocket as it orbits around the sun\n",
    "    Puts this velocity into a magic sauce equation to calculate the distance \n",
    "    from the sun to the perigee and apogee, labelled r1 and r2 respectively\n",
    "    This is the goal but the unit's aren't working, rip\n",
    "    \"\"\"\n",
    "    f = G * sun.mass*mars.radius - (vp**2)*(mars.radius**2)/ ((vp**2)*(mars.radius)-2*G*sun.mass)\n",
    "    print(f)\n",
    "    r1 = mars.radius\n",
    "    r2 = 2*f+r1\n",
    "    return r1, r2\n",
    "\n",
    "calc_radii(1000)\n",
    "    \n",
    "\n",
    "\n"
   ]
  },
  {
   "cell_type": "code",
   "execution_count": null,
   "metadata": {
    "collapsed": true
   },
   "outputs": [],
   "source": []
  }
 ],
 "metadata": {
  "kernelspec": {
   "display_name": "Python 3",
   "language": "python",
   "name": "python3"
  },
  "language_info": {
   "codemirror_mode": {
    "name": "ipython",
    "version": 3
   },
   "file_extension": ".py",
   "mimetype": "text/x-python",
   "name": "python",
   "nbconvert_exporter": "python",
   "pygments_lexer": "ipython3",
   "version": "3.6.1"
  }
 },
 "nbformat": 4,
 "nbformat_minor": 2
}
