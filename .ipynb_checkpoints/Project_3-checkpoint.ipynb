{
 "cells": [
  {
   "cell_type": "markdown",
   "metadata": {},
   "source": [
    "# MOD_SIM_P_3 Workspace\n",
    "\n",
    "By Corey Cochran-Lepiz,\n",
    "   Shawn Albertson\n",
    "   \n",
    "Orbital Trajectories"
   ]
  },
  {
   "cell_type": "markdown",
   "metadata": {},
   "source": [
    "### First step in any good code:import your libraries!\n"
   ]
  },
  {
   "cell_type": "code",
   "execution_count": 1,
   "metadata": {
    "collapsed": true
   },
   "outputs": [],
   "source": [
    "from math import *\n",
    "from modsim import *"
   ]
  },
  {
   "cell_type": "markdown",
   "metadata": {},
   "source": [
    "### Setup your units"
   ]
  },
  {
   "cell_type": "code",
   "execution_count": 3,
   "metadata": {},
   "outputs": [
    {
     "data": {
      "text/plain": [
       "pint.unit.build_unit_class.<locals>.Unit"
      ]
     },
     "execution_count": 3,
     "metadata": {},
     "output_type": "execute_result"
    }
   ],
   "source": [
    "m = UNITS.meter\n",
    "km = UNITS.kilometer\n",
    "s = UNITS.second\n",
    "kg = UNITS.kilogram\n",
    "newt = kg * m/(s**2)\n"
   ]
  },
  {
   "cell_type": "code",
   "execution_count": 7,
   "metadata": {},
   "outputs": [],
   "source": [
    "condition_mars = Condition(x= 0 * m,\n",
    "                           y= 0 * m,\n",
    "                           radius = 3396.2 * km,\n",
    "                           mass = .64171 * (10**24) * kg    \n",
    "                           )\n",
    "\n",
    "condition_rocket = Condition(x= -1 * condition_mars.radius,\n",
    "                             y= 0 * km,\n",
    "                             mass = 1433788 * kg,\n",
    "                             rho = 0.02 * kg/m**3, #needs function to update\n",
    "                             h = 0 * m #height\n",
    "                            )\n"
   ]
  },
  {
   "cell_type": "markdown",
   "metadata": {},
   "source": [
    "## Things to make for next time\n",
    "### A function that calculates:\n",
    "### Height, force of drag, gravity (with vector pointing 0,0), rho (air density), mass (as we lose propellant), thrust (stages?)."
   ]
  },
  {
   "cell_type": "code",
   "execution_count": null,
   "metadata": {
    "collapsed": true
   },
   "outputs": [],
   "source": []
  }
 ],
 "metadata": {
  "kernelspec": {
   "display_name": "Python 3",
   "language": "python",
   "name": "python3"
  },
  "language_info": {
   "codemirror_mode": {
    "name": "ipython",
    "version": 3
   },
   "file_extension": ".py",
   "mimetype": "text/x-python",
   "name": "python",
   "nbconvert_exporter": "python",
   "pygments_lexer": "ipython3",
   "version": "3.6.1"
  }
 },
 "nbformat": 4,
 "nbformat_minor": 2
}
