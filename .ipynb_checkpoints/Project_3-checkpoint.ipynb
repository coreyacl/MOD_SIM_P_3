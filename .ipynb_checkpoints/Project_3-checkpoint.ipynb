{
 "cells": [
  {
   "cell_type": "markdown",
   "metadata": {},
   "source": [
    "# MOD_SIM_P_3 Workspace\n",
    "\n",
    "### By Corey Cochran-Lepiz,\n",
    "###   Shawn Albertson\n",
    "   \n",
    "Orbital Trajectories"
   ]
  },
  {
   "cell_type": "markdown",
   "metadata": {},
   "source": [
    "### First step in any good code:import your libraries!\n"
   ]
  },
  {
   "cell_type": "code",
   "execution_count": 1,
   "metadata": {
    "collapsed": true
   },
   "outputs": [],
   "source": [
    "from math import *\n",
    "from modsim import *"
   ]
  },
  {
   "cell_type": "markdown",
   "metadata": {},
   "source": [
    "### Setup your units"
   ]
  },
  {
   "cell_type": "code",
   "execution_count": 2,
   "metadata": {
    "collapsed": true
   },
   "outputs": [],
   "source": [
    "m = UNITS.meter\n",
    "km = UNITS.kilometer\n",
    "s = UNITS.second\n",
    "kg = UNITS.kilogram\n",
    "N = kg * m/(s**2)\n",
    "kN = kg * m/(s**2) * 1000\n",
    "G = 6.67408 * (10**-11) * m**3 * kg**-1 * s**-2\n"
   ]
  },
  {
   "cell_type": "code",
   "execution_count": 4,
   "metadata": {},
   "outputs": [],
   "source": [
    "sun = Condition(x = 0 * m, #i'm using conditions instead of systems to reduce the am't of systems we have\n",
    "             y = 0 * m,\n",
    "             mass = 1.9891e30 * kg             \n",
    "            )\n",
    "\n",
    "mars = Condition(orbital_radius = 227.9e9 * m,\n",
    "              radius = 3396200 * m,\n",
    "              mass = .64171e24 * kg,\n",
    "              orbital_speed = 24080 * m/s \n",
    "                )\n",
    "\n",
    "saturn = Condition(orbital_radius = 1.429e12 * m,\n",
    "                mass = 5.683e26 * kg,\n",
    "                orbital_speed = 9680 *m/s,\n",
    "                radius= 58.232e6 * m\n",
    "                )\n",
    "\n",
    "titan = Condition(radius = 2575e3 *m,\n",
    "               mass = 1.3455e23 * kg,\n",
    "               orbital_speed = 5570 *m/s,\n",
    "               orbital_radius = 1221865e3 * m\n",
    "              )\n",
    "\n",
    "rocket = Condition(orbital_radius = 0 *m,\n",
    "                dry_mass = 1433788 * kg,\n",
    "                rho = 0.02 * kg/m**3, #needs function to update\n",
    "                thrust = 22800000 * N,\n",
    "                fuel_init = 1000000 * kg\n",
    "               )\n"
   ]
  },
  {
   "cell_type": "markdown",
   "metadata": {},
   "source": [
    "## Things to make for next time\n",
    "### A function that calculates:\n",
    "### mass (as we lose propellant), thrust (stages? 3), time-based position function..."
   ]
  },
  {
   "cell_type": "code",
   "execution_count": 23,
   "metadata": {
    "collapsed": true
   },
   "outputs": [],
   "source": [
    "def calc_mass_r(t): #What is this doing?\n",
    "    rocket.fuel_init * -.18 * t\n",
    "    return rocket.dry_mass + rocket.fuel_init\n",
    "    \n",
    "#calc_mass_r(30)"
   ]
  },
  {
   "cell_type": "code",
   "execution_count": null,
   "metadata": {
    "collapsed": true
   },
   "outputs": [],
   "source": [
    "def calc_mgrav(vr,vm, mass_rocket): #calculate gravity in reference to Mars\n",
    "    \"\"\"\n",
    "    Given the vectors of two objects in space, find the force of gravity acting upon them.\n",
    "    Pass two vectors with the x and y positons of the rocket and body in question\n",
    "    G is the gravitational constant\n",
    "    vr is the position vector of the rocket\n",
    "    vm is the position vector of mars\n",
    "    height is just the distance between the center of the two objects\n",
    "    returns force vector from the rocket towards the body \n",
    "    \"\"\"\n",
    "    height = vr.dist(vm)\n",
    "    grav = G * mars.mass * mass_rocket / (height)**2\n",
    "    print(height,grav/mass_rocket)\n",
    "    \n",
    "    a = Vector(vm.x-vr.x,vm.y-vr.y) #Creates a vector from the rocket to the object\n",
    "    x,y = pol2cart(a.angle,grav) #the vector has the angle, and with the force of grav we turn them to cartesian \n",
    "    \n",
    "    f_grav = Vector(x,y) #The vector!\n",
    "    return f_grav\n",
    "\n",
    "def calc_satgrav(vr,vsat,mass_rocket): #calculate gravity in reference to Saturn\n",
    "    height = vr.dist(vsat)\n",
    "    grav = G * saturn.mass * mass_rocket / (height)**2\n",
    "\n",
    "    a = Vector(vsat.x-vr.x,vsat.y-vr.y)\n",
    "    x,y = pol2cart(a.angle,grav)\n",
    "    \n",
    "    f_grav = Vector(x,y)\n",
    "    return f_grav\n",
    "\n",
    "def calc_tgrav(vr,vt,mass_rocket): #calculate gravity in reference to Titan\n",
    "    height = vr.dist(vt)\n",
    "    grav = G * titan.mass * mass_rocket / (height)**2\n",
    "\n",
    "    a = Vector(vt.x-vr.x,vt.y-vr.y)\n",
    "    x,y = pol2cart(a.angle,grav)\n",
    "    \n",
    "    f_grav = Vector(x,y)\n",
    "    return f_grav\n",
    "\n",
    "\n",
    "def calc_sgrav(vr,mass):#calculate gravity in reference to the Sun\n",
    "    height = vr.mag #hah\n",
    "    grav = G * sun.mass * mass / (height)**2\n",
    "    \n",
    "    x,y = pol2cart(vr.angle+pi*UNITS.radians,grav) #added pi to face in the right direction\n",
    "    \n",
    "    f_grav = Vector(x,y)\n",
    "    return f_grav"
   ]
  },
  {
   "cell_type": "code",
   "execution_count": 25,
   "metadata": {},
   "outputs": [
    {
     "name": "stdout",
     "output_type": "stream",
     "text": [
      "3396200.0 meter 3.7131603124948063 meter / second ** 2\n",
      "9037045.01062611 kilogram * meter / second ** 2\n",
      "3.542457409474105e+22 kilogram * meter / second ** 2 3.141592653589793 radian\n"
     ]
    }
   ],
   "source": [
    "#TROUBLESHOOTING\n",
    "     \n",
    "#%time calc_sgrav(1.429e12,rocket.dry_mass+rocket.fuel_init)/(rocket.dry_mass+rocket.fuel_init)\n",
    "vr = Vector(1,1) * m\n",
    "vm = Vector(-1,1) * m\n",
    "#%time sqrt((vr.x-vm.x)**2+(vr.y-vm.y)**2)\n",
    "#%time (vr.diff_angle(vm)).to(UNITS.degree)\n",
    "vr.mag\n",
    "#%time acos((vr.x*vm.x+vr.y*vm.y)/sqrt((vr.x**2+vr.x**2)*(vm.x**2+vm.y**2)))\n",
    "a = Vector(vm.x-vr.x,vm.y-vr.y)\n",
    "x,y = pol2cart(a.angle,1)\n",
    "c = Vector(x,y)\n",
    "#vr.dist(vm)\n",
    "#print(c.angle,c.mag)\n",
    "\n",
    "b = calc_mgrav(Vector(-227.9e9*m - mars.radius,0*m),Vector(-227.9e9*m,0*m),rocket.dry_mass+rocket.fuel_init)\n",
    "b.mag/(rocket.dry_mass+rocket.fuel_init)\n",
    "b.angle\n",
    "print(b.mag)\n",
    "\n",
    "d = calc_sgrav(Vector(149.6e9*m,0*m),5.972e24*kg)\n",
    "print(d.mag,d.angle)"
   ]
  },
  {
   "cell_type": "code",
   "execution_count": 10,
   "metadata": {
    "collapsed": true
   },
   "outputs": [],
   "source": [
    "def accel_thrust(system,v,t): #NOT DONE\n",
    "    \"\"\"\"\n",
    "    Returns an accel vector of thrust given a system, the objects velocity, and time.\n",
    "    \"\"\"\"\n",
    "    unpack(system)\n",
    "    \n",
    "    \n",
    "    return a_thrust"
   ]
  },
  {
   "cell_type": "code",
   "execution_count": null,
   "metadata": {
    "collapsed": true
   },
   "outputs": [],
   "source": [
    "def make_system_planet(condition,theta): #in degrees\n",
    "    \n",
    "    unpack(condition)\n",
    "    \n",
    "    theta1 = np.deg2rad(theta*UNITS.degree)\n",
    "    \n",
    "    x,y = pol2cart(theta1,orbital_radius)\n",
    "    \n",
    "    vx,vx = pol2cart(theta1+.5*pi*UNITS.radian,orbital_speed)\n",
    "    \n",
    "    init = State(x=x,y=y,vx=vx,vy=vy)\n",
    "    \n",
    "    return System(init=init,mass=mass)\n",
    "    \n",
    "def make_system_titan(condition,system,theta):\n",
    "    \n",
    "    unpack(condition)\n",
    "    \n",
    "    theta1 = np.deg2rad(theta*UNITS.degree)\n",
    "    \n",
    "    a = Vector(system.init.x,system.init.y)\n",
    "    \n",
    "    x,y = pol2cart(theta1,orbital_radius+)\n",
    "    \n",
    "    vx,vx = pol2cart(theta1+.5*pi*UNITS.radian,orbital_speed)\n",
    "    \n",
    "    init = State(x=x,y=y,vx=vx,vy=vy)\n",
    "    \n",
    "    return System(init=init,mass=mass)\n",
    "\n",
    "    \n",
    "def slope_func(state,t,system):\n",
    "    x, y, vx, vy = state\n",
    "    unpack(system)\n",
    "    \n",
    "    h = height_from_mars(x,y)\n",
    "    a_grav = calc_grav(h)\n",
    "    \n",
    "    v = Vector(vx,vy)\n",
    "    \n",
    "    f_drag = force_of_drag(v.mag,h)\n",
    "    a_drag = d_drag/mass\n",
    "    \n",
    "    a_thrust = accel_thrust(system,v,t)\n",
    "    \n",
    "    a = a_grav + a_drag + a_thrust\n",
    "    \n",
    "    return v.x, v.y, a.x, a.y"
   ]
  },
  {
   "cell_type": "markdown",
   "metadata": {},
   "source": [
    "# Unused Functions"
   ]
  },
  {
   "cell_type": "code",
   "execution_count": null,
   "metadata": {
    "collapsed": true
   },
   "outputs": [],
   "source": [
    "def height_from_mars(x,y): #Assuming that mars is at the origin\n",
    "    \"\"\"\"\n",
    "    Given an x and y returns the distance from the center\n",
    "    of Mars assuming that Mars is at the origin.\n",
    "    \n",
    "    \"\"\"\"\n",
    "    #[theta,rho] = cart2pol(x,y) #but it doens't like big numbers\n",
    "    x /= m #strip the units\n",
    "    y /= m\n",
    "    rho = sqrt(x**2+y**2) * m #distance formula\n",
    "    height = rho - (3396200*m)\n",
    "    return height\n",
    "\n",
    "def force_of_drag(v,h):\n",
    "    \"\"\"\"\n",
    "    Returns the force of drag given velocity of the object\n",
    "    and it's distance away from the planet\n",
    "    \n",
    "    rho is the air density\n",
    "    v is velocity of rocket\n",
    "    c_d is drag coeffeciant of drag of the rocket but it's dependant on velocity\n",
    "    \"\"\"\"\n",
    "    C_d = drag(v)\n",
    "    return -(1/2) * rho * v.mag * v * C_d * area\n",
    "\n",
    "def rho(h): #math from NASA https://www.grc.nasa.gov/www/k-12/airplane/atmosmrm.html\n",
    "    \"\"\"\"\n",
    "    Returns the air density of Mars above the ground given the height\n",
    "    \"\"\"\"\n",
    "    if h < 7000: #two zones for density\n",
    "        T = -31 - 0.000998 * h #temp\n",
    "        P = .699*exp(-0.00009*h) #pressure\n",
    "    else:\n",
    "        T = -23.4 - 0.00222*h\n",
    "        P = .699*exp(-0.00009*h)\n",
    "    return P/(.1921*(T+273.1)) #return density"
   ]
  }
 ],
 "metadata": {
  "kernelspec": {
   "display_name": "Python 3",
   "language": "python",
   "name": "python3"
  },
  "language_info": {
   "codemirror_mode": {
    "name": "ipython",
    "version": 3
   },
   "file_extension": ".py",
   "mimetype": "text/x-python",
   "name": "python",
   "nbconvert_exporter": "python",
   "pygments_lexer": "ipython3",
   "version": "3.6.1"
  }
 },
 "nbformat": 4,
 "nbformat_minor": 2
}
